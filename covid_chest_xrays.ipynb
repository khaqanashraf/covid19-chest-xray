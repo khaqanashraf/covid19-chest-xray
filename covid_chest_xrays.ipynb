{
  "nbformat": 4,
  "nbformat_minor": 0,
  "metadata": {
    "colab": {
      "name": "covid_chest_xrays.ipynb",
      "provenance": []
    },
    "kernelspec": {
      "name": "python3",
      "display_name": "Python 3"
    },
    "widgets": {
      "application/vnd.jupyter.widget-state+json": {
        "46d8c124f3c740719b619b036dace61d": {
          "model_module": "@jupyter-widgets/controls",
          "model_name": "HBoxModel",
          "state": {
            "_view_name": "HBoxView",
            "_dom_classes": [],
            "_model_name": "HBoxModel",
            "_view_module": "@jupyter-widgets/controls",
            "_model_module_version": "1.5.0",
            "_view_count": null,
            "_view_module_version": "1.5.0",
            "box_style": "",
            "layout": "IPY_MODEL_2cdf90d2f1c84a0b9c9c356d242e1a1d",
            "_model_module": "@jupyter-widgets/controls",
            "children": [
              "IPY_MODEL_2c9a8af5ae784ffb9887a7382256c7ac",
              "IPY_MODEL_ebd9207ceaca478b9420cdb147dc78b7"
            ]
          }
        },
        "2cdf90d2f1c84a0b9c9c356d242e1a1d": {
          "model_module": "@jupyter-widgets/base",
          "model_name": "LayoutModel",
          "state": {
            "_view_name": "LayoutView",
            "grid_template_rows": null,
            "right": null,
            "justify_content": null,
            "_view_module": "@jupyter-widgets/base",
            "overflow": null,
            "_model_module_version": "1.2.0",
            "_view_count": null,
            "flex_flow": null,
            "width": null,
            "min_width": null,
            "border": null,
            "align_items": null,
            "bottom": null,
            "_model_module": "@jupyter-widgets/base",
            "top": null,
            "grid_column": null,
            "overflow_y": null,
            "overflow_x": null,
            "grid_auto_flow": null,
            "grid_area": null,
            "grid_template_columns": null,
            "flex": null,
            "_model_name": "LayoutModel",
            "justify_items": null,
            "grid_row": null,
            "max_height": null,
            "align_content": null,
            "visibility": null,
            "align_self": null,
            "height": null,
            "min_height": null,
            "padding": null,
            "grid_auto_rows": null,
            "grid_gap": null,
            "max_width": null,
            "order": null,
            "_view_module_version": "1.2.0",
            "grid_template_areas": null,
            "object_position": null,
            "object_fit": null,
            "grid_auto_columns": null,
            "margin": null,
            "display": null,
            "left": null
          }
        },
        "2c9a8af5ae784ffb9887a7382256c7ac": {
          "model_module": "@jupyter-widgets/controls",
          "model_name": "FloatProgressModel",
          "state": {
            "_view_name": "ProgressView",
            "style": "IPY_MODEL_f132c8212e5d4fc1b5d5a23fd042fb9e",
            "_dom_classes": [],
            "description": "100%",
            "_model_name": "FloatProgressModel",
            "bar_style": "success",
            "max": 553433881,
            "_view_module": "@jupyter-widgets/controls",
            "_model_module_version": "1.5.0",
            "value": 553433881,
            "_view_count": null,
            "_view_module_version": "1.5.0",
            "orientation": "horizontal",
            "min": 0,
            "description_tooltip": null,
            "_model_module": "@jupyter-widgets/controls",
            "layout": "IPY_MODEL_827dbde778974a8a8a56fd032eb427fa"
          }
        },
        "ebd9207ceaca478b9420cdb147dc78b7": {
          "model_module": "@jupyter-widgets/controls",
          "model_name": "HTMLModel",
          "state": {
            "_view_name": "HTMLView",
            "style": "IPY_MODEL_861a6ba1e6cc43e99cc5fde615ee12f6",
            "_dom_classes": [],
            "description": "",
            "_model_name": "HTMLModel",
            "placeholder": "​",
            "_view_module": "@jupyter-widgets/controls",
            "_model_module_version": "1.5.0",
            "value": " 528M/528M [3:11:41&lt;00:00, 48.1kB/s]",
            "_view_count": null,
            "_view_module_version": "1.5.0",
            "description_tooltip": null,
            "_model_module": "@jupyter-widgets/controls",
            "layout": "IPY_MODEL_cae7192fdfc84f008140ed28f6779d64"
          }
        },
        "f132c8212e5d4fc1b5d5a23fd042fb9e": {
          "model_module": "@jupyter-widgets/controls",
          "model_name": "ProgressStyleModel",
          "state": {
            "_view_name": "StyleView",
            "_model_name": "ProgressStyleModel",
            "description_width": "initial",
            "_view_module": "@jupyter-widgets/base",
            "_model_module_version": "1.5.0",
            "_view_count": null,
            "_view_module_version": "1.2.0",
            "bar_color": null,
            "_model_module": "@jupyter-widgets/controls"
          }
        },
        "827dbde778974a8a8a56fd032eb427fa": {
          "model_module": "@jupyter-widgets/base",
          "model_name": "LayoutModel",
          "state": {
            "_view_name": "LayoutView",
            "grid_template_rows": null,
            "right": null,
            "justify_content": null,
            "_view_module": "@jupyter-widgets/base",
            "overflow": null,
            "_model_module_version": "1.2.0",
            "_view_count": null,
            "flex_flow": null,
            "width": null,
            "min_width": null,
            "border": null,
            "align_items": null,
            "bottom": null,
            "_model_module": "@jupyter-widgets/base",
            "top": null,
            "grid_column": null,
            "overflow_y": null,
            "overflow_x": null,
            "grid_auto_flow": null,
            "grid_area": null,
            "grid_template_columns": null,
            "flex": null,
            "_model_name": "LayoutModel",
            "justify_items": null,
            "grid_row": null,
            "max_height": null,
            "align_content": null,
            "visibility": null,
            "align_self": null,
            "height": null,
            "min_height": null,
            "padding": null,
            "grid_auto_rows": null,
            "grid_gap": null,
            "max_width": null,
            "order": null,
            "_view_module_version": "1.2.0",
            "grid_template_areas": null,
            "object_position": null,
            "object_fit": null,
            "grid_auto_columns": null,
            "margin": null,
            "display": null,
            "left": null
          }
        },
        "861a6ba1e6cc43e99cc5fde615ee12f6": {
          "model_module": "@jupyter-widgets/controls",
          "model_name": "DescriptionStyleModel",
          "state": {
            "_view_name": "StyleView",
            "_model_name": "DescriptionStyleModel",
            "description_width": "",
            "_view_module": "@jupyter-widgets/base",
            "_model_module_version": "1.5.0",
            "_view_count": null,
            "_view_module_version": "1.2.0",
            "_model_module": "@jupyter-widgets/controls"
          }
        },
        "cae7192fdfc84f008140ed28f6779d64": {
          "model_module": "@jupyter-widgets/base",
          "model_name": "LayoutModel",
          "state": {
            "_view_name": "LayoutView",
            "grid_template_rows": null,
            "right": null,
            "justify_content": null,
            "_view_module": "@jupyter-widgets/base",
            "overflow": null,
            "_model_module_version": "1.2.0",
            "_view_count": null,
            "flex_flow": null,
            "width": null,
            "min_width": null,
            "border": null,
            "align_items": null,
            "bottom": null,
            "_model_module": "@jupyter-widgets/base",
            "top": null,
            "grid_column": null,
            "overflow_y": null,
            "overflow_x": null,
            "grid_auto_flow": null,
            "grid_area": null,
            "grid_template_columns": null,
            "flex": null,
            "_model_name": "LayoutModel",
            "justify_items": null,
            "grid_row": null,
            "max_height": null,
            "align_content": null,
            "visibility": null,
            "align_self": null,
            "height": null,
            "min_height": null,
            "padding": null,
            "grid_auto_rows": null,
            "grid_gap": null,
            "max_width": null,
            "order": null,
            "_view_module_version": "1.2.0",
            "grid_template_areas": null,
            "object_position": null,
            "object_fit": null,
            "grid_auto_columns": null,
            "margin": null,
            "display": null,
            "left": null
          }
        },
        "f5a9ebff168147db87c27ef2e7ab8d5d": {
          "model_module": "@jupyter-widgets/controls",
          "model_name": "HBoxModel",
          "state": {
            "_view_name": "HBoxView",
            "_dom_classes": [],
            "_model_name": "HBoxModel",
            "_view_module": "@jupyter-widgets/controls",
            "_model_module_version": "1.5.0",
            "_view_count": null,
            "_view_module_version": "1.5.0",
            "box_style": "",
            "layout": "IPY_MODEL_08978e2b2aa5441f98e33d96f77af13b",
            "_model_module": "@jupyter-widgets/controls",
            "children": [
              "IPY_MODEL_e29974a50e5e4ee0aa6e63b4f73f5838",
              "IPY_MODEL_230ca14a46fe4ad38f3aa31168848fac"
            ]
          }
        },
        "08978e2b2aa5441f98e33d96f77af13b": {
          "model_module": "@jupyter-widgets/base",
          "model_name": "LayoutModel",
          "state": {
            "_view_name": "LayoutView",
            "grid_template_rows": null,
            "right": null,
            "justify_content": null,
            "_view_module": "@jupyter-widgets/base",
            "overflow": null,
            "_model_module_version": "1.2.0",
            "_view_count": null,
            "flex_flow": null,
            "width": null,
            "min_width": null,
            "border": null,
            "align_items": null,
            "bottom": null,
            "_model_module": "@jupyter-widgets/base",
            "top": null,
            "grid_column": null,
            "overflow_y": null,
            "overflow_x": null,
            "grid_auto_flow": null,
            "grid_area": null,
            "grid_template_columns": null,
            "flex": null,
            "_model_name": "LayoutModel",
            "justify_items": null,
            "grid_row": null,
            "max_height": null,
            "align_content": null,
            "visibility": null,
            "align_self": null,
            "height": null,
            "min_height": null,
            "padding": null,
            "grid_auto_rows": null,
            "grid_gap": null,
            "max_width": null,
            "order": null,
            "_view_module_version": "1.2.0",
            "grid_template_areas": null,
            "object_position": null,
            "object_fit": null,
            "grid_auto_columns": null,
            "margin": null,
            "display": null,
            "left": null
          }
        },
        "e29974a50e5e4ee0aa6e63b4f73f5838": {
          "model_module": "@jupyter-widgets/controls",
          "model_name": "FloatProgressModel",
          "state": {
            "_view_name": "ProgressView",
            "style": "IPY_MODEL_ffc588d0adff422c90116bef03615e21",
            "_dom_classes": [],
            "description": "100%",
            "_model_name": "FloatProgressModel",
            "bar_style": "success",
            "max": 46827520,
            "_view_module": "@jupyter-widgets/controls",
            "_model_module_version": "1.5.0",
            "value": 46827520,
            "_view_count": null,
            "_view_module_version": "1.5.0",
            "orientation": "horizontal",
            "min": 0,
            "description_tooltip": null,
            "_model_module": "@jupyter-widgets/controls",
            "layout": "IPY_MODEL_e1b03d51f56c48e78e4f80c33c20cee0"
          }
        },
        "230ca14a46fe4ad38f3aa31168848fac": {
          "model_module": "@jupyter-widgets/controls",
          "model_name": "HTMLModel",
          "state": {
            "_view_name": "HTMLView",
            "style": "IPY_MODEL_cbecac87f12048ef8db0f5b79da8cb29",
            "_dom_classes": [],
            "description": "",
            "_model_name": "HTMLModel",
            "placeholder": "​",
            "_view_module": "@jupyter-widgets/controls",
            "_model_module_version": "1.5.0",
            "value": " 44.7M/44.7M [5:13:15&lt;00:00, 2.49kB/s]",
            "_view_count": null,
            "_view_module_version": "1.5.0",
            "description_tooltip": null,
            "_model_module": "@jupyter-widgets/controls",
            "layout": "IPY_MODEL_dadf18a4be9c4389a1e63c6cd4cbebbe"
          }
        },
        "ffc588d0adff422c90116bef03615e21": {
          "model_module": "@jupyter-widgets/controls",
          "model_name": "ProgressStyleModel",
          "state": {
            "_view_name": "StyleView",
            "_model_name": "ProgressStyleModel",
            "description_width": "initial",
            "_view_module": "@jupyter-widgets/base",
            "_model_module_version": "1.5.0",
            "_view_count": null,
            "_view_module_version": "1.2.0",
            "bar_color": null,
            "_model_module": "@jupyter-widgets/controls"
          }
        },
        "e1b03d51f56c48e78e4f80c33c20cee0": {
          "model_module": "@jupyter-widgets/base",
          "model_name": "LayoutModel",
          "state": {
            "_view_name": "LayoutView",
            "grid_template_rows": null,
            "right": null,
            "justify_content": null,
            "_view_module": "@jupyter-widgets/base",
            "overflow": null,
            "_model_module_version": "1.2.0",
            "_view_count": null,
            "flex_flow": null,
            "width": null,
            "min_width": null,
            "border": null,
            "align_items": null,
            "bottom": null,
            "_model_module": "@jupyter-widgets/base",
            "top": null,
            "grid_column": null,
            "overflow_y": null,
            "overflow_x": null,
            "grid_auto_flow": null,
            "grid_area": null,
            "grid_template_columns": null,
            "flex": null,
            "_model_name": "LayoutModel",
            "justify_items": null,
            "grid_row": null,
            "max_height": null,
            "align_content": null,
            "visibility": null,
            "align_self": null,
            "height": null,
            "min_height": null,
            "padding": null,
            "grid_auto_rows": null,
            "grid_gap": null,
            "max_width": null,
            "order": null,
            "_view_module_version": "1.2.0",
            "grid_template_areas": null,
            "object_position": null,
            "object_fit": null,
            "grid_auto_columns": null,
            "margin": null,
            "display": null,
            "left": null
          }
        },
        "cbecac87f12048ef8db0f5b79da8cb29": {
          "model_module": "@jupyter-widgets/controls",
          "model_name": "DescriptionStyleModel",
          "state": {
            "_view_name": "StyleView",
            "_model_name": "DescriptionStyleModel",
            "description_width": "",
            "_view_module": "@jupyter-widgets/base",
            "_model_module_version": "1.5.0",
            "_view_count": null,
            "_view_module_version": "1.2.0",
            "_model_module": "@jupyter-widgets/controls"
          }
        },
        "dadf18a4be9c4389a1e63c6cd4cbebbe": {
          "model_module": "@jupyter-widgets/base",
          "model_name": "LayoutModel",
          "state": {
            "_view_name": "LayoutView",
            "grid_template_rows": null,
            "right": null,
            "justify_content": null,
            "_view_module": "@jupyter-widgets/base",
            "overflow": null,
            "_model_module_version": "1.2.0",
            "_view_count": null,
            "flex_flow": null,
            "width": null,
            "min_width": null,
            "border": null,
            "align_items": null,
            "bottom": null,
            "_model_module": "@jupyter-widgets/base",
            "top": null,
            "grid_column": null,
            "overflow_y": null,
            "overflow_x": null,
            "grid_auto_flow": null,
            "grid_area": null,
            "grid_template_columns": null,
            "flex": null,
            "_model_name": "LayoutModel",
            "justify_items": null,
            "grid_row": null,
            "max_height": null,
            "align_content": null,
            "visibility": null,
            "align_self": null,
            "height": null,
            "min_height": null,
            "padding": null,
            "grid_auto_rows": null,
            "grid_gap": null,
            "max_width": null,
            "order": null,
            "_view_module_version": "1.2.0",
            "grid_template_areas": null,
            "object_position": null,
            "object_fit": null,
            "grid_auto_columns": null,
            "margin": null,
            "display": null,
            "left": null
          }
        },
        "ab3592879ef9474c9bc5b1ef1d6833cf": {
          "model_module": "@jupyter-widgets/controls",
          "model_name": "HBoxModel",
          "state": {
            "_view_name": "HBoxView",
            "_dom_classes": [],
            "_model_name": "HBoxModel",
            "_view_module": "@jupyter-widgets/controls",
            "_model_module_version": "1.5.0",
            "_view_count": null,
            "_view_module_version": "1.5.0",
            "box_style": "",
            "layout": "IPY_MODEL_3c88933880d24f92a823801cf2b65cd9",
            "_model_module": "@jupyter-widgets/controls",
            "children": [
              "IPY_MODEL_e21ce3b6de4d44a18cd13a7b4b4791b9",
              "IPY_MODEL_5fb58c4361bf452c8524cf5b394cd00e"
            ]
          }
        },
        "3c88933880d24f92a823801cf2b65cd9": {
          "model_module": "@jupyter-widgets/base",
          "model_name": "LayoutModel",
          "state": {
            "_view_name": "LayoutView",
            "grid_template_rows": null,
            "right": null,
            "justify_content": null,
            "_view_module": "@jupyter-widgets/base",
            "overflow": null,
            "_model_module_version": "1.2.0",
            "_view_count": null,
            "flex_flow": null,
            "width": null,
            "min_width": null,
            "border": null,
            "align_items": null,
            "bottom": null,
            "_model_module": "@jupyter-widgets/base",
            "top": null,
            "grid_column": null,
            "overflow_y": null,
            "overflow_x": null,
            "grid_auto_flow": null,
            "grid_area": null,
            "grid_template_columns": null,
            "flex": null,
            "_model_name": "LayoutModel",
            "justify_items": null,
            "grid_row": null,
            "max_height": null,
            "align_content": null,
            "visibility": null,
            "align_self": null,
            "height": null,
            "min_height": null,
            "padding": null,
            "grid_auto_rows": null,
            "grid_gap": null,
            "max_width": null,
            "order": null,
            "_view_module_version": "1.2.0",
            "grid_template_areas": null,
            "object_position": null,
            "object_fit": null,
            "grid_auto_columns": null,
            "margin": null,
            "display": null,
            "left": null
          }
        },
        "e21ce3b6de4d44a18cd13a7b4b4791b9": {
          "model_module": "@jupyter-widgets/controls",
          "model_name": "FloatProgressModel",
          "state": {
            "_view_name": "ProgressView",
            "style": "IPY_MODEL_d5721f1d76da4ffbad86bd31be556af5",
            "_dom_classes": [],
            "description": "100%",
            "_model_name": "FloatProgressModel",
            "bar_style": "success",
            "max": 553433881,
            "_view_module": "@jupyter-widgets/controls",
            "_model_module_version": "1.5.0",
            "value": 553433881,
            "_view_count": null,
            "_view_module_version": "1.5.0",
            "orientation": "horizontal",
            "min": 0,
            "description_tooltip": null,
            "_model_module": "@jupyter-widgets/controls",
            "layout": "IPY_MODEL_8b2bc448d8344305a0eefee7b7d00e68"
          }
        },
        "5fb58c4361bf452c8524cf5b394cd00e": {
          "model_module": "@jupyter-widgets/controls",
          "model_name": "HTMLModel",
          "state": {
            "_view_name": "HTMLView",
            "style": "IPY_MODEL_4de0ad4b3dd04b62a8d357a4c006aafe",
            "_dom_classes": [],
            "description": "",
            "_model_name": "HTMLModel",
            "placeholder": "​",
            "_view_module": "@jupyter-widgets/controls",
            "_model_module_version": "1.5.0",
            "value": " 528M/528M [00:25&lt;00:00, 21.7MB/s]",
            "_view_count": null,
            "_view_module_version": "1.5.0",
            "description_tooltip": null,
            "_model_module": "@jupyter-widgets/controls",
            "layout": "IPY_MODEL_146ac59dd80d43579ff53efb2e4eb41b"
          }
        },
        "d5721f1d76da4ffbad86bd31be556af5": {
          "model_module": "@jupyter-widgets/controls",
          "model_name": "ProgressStyleModel",
          "state": {
            "_view_name": "StyleView",
            "_model_name": "ProgressStyleModel",
            "description_width": "initial",
            "_view_module": "@jupyter-widgets/base",
            "_model_module_version": "1.5.0",
            "_view_count": null,
            "_view_module_version": "1.2.0",
            "bar_color": null,
            "_model_module": "@jupyter-widgets/controls"
          }
        },
        "8b2bc448d8344305a0eefee7b7d00e68": {
          "model_module": "@jupyter-widgets/base",
          "model_name": "LayoutModel",
          "state": {
            "_view_name": "LayoutView",
            "grid_template_rows": null,
            "right": null,
            "justify_content": null,
            "_view_module": "@jupyter-widgets/base",
            "overflow": null,
            "_model_module_version": "1.2.0",
            "_view_count": null,
            "flex_flow": null,
            "width": null,
            "min_width": null,
            "border": null,
            "align_items": null,
            "bottom": null,
            "_model_module": "@jupyter-widgets/base",
            "top": null,
            "grid_column": null,
            "overflow_y": null,
            "overflow_x": null,
            "grid_auto_flow": null,
            "grid_area": null,
            "grid_template_columns": null,
            "flex": null,
            "_model_name": "LayoutModel",
            "justify_items": null,
            "grid_row": null,
            "max_height": null,
            "align_content": null,
            "visibility": null,
            "align_self": null,
            "height": null,
            "min_height": null,
            "padding": null,
            "grid_auto_rows": null,
            "grid_gap": null,
            "max_width": null,
            "order": null,
            "_view_module_version": "1.2.0",
            "grid_template_areas": null,
            "object_position": null,
            "object_fit": null,
            "grid_auto_columns": null,
            "margin": null,
            "display": null,
            "left": null
          }
        },
        "4de0ad4b3dd04b62a8d357a4c006aafe": {
          "model_module": "@jupyter-widgets/controls",
          "model_name": "DescriptionStyleModel",
          "state": {
            "_view_name": "StyleView",
            "_model_name": "DescriptionStyleModel",
            "description_width": "",
            "_view_module": "@jupyter-widgets/base",
            "_model_module_version": "1.5.0",
            "_view_count": null,
            "_view_module_version": "1.2.0",
            "_model_module": "@jupyter-widgets/controls"
          }
        },
        "146ac59dd80d43579ff53efb2e4eb41b": {
          "model_module": "@jupyter-widgets/base",
          "model_name": "LayoutModel",
          "state": {
            "_view_name": "LayoutView",
            "grid_template_rows": null,
            "right": null,
            "justify_content": null,
            "_view_module": "@jupyter-widgets/base",
            "overflow": null,
            "_model_module_version": "1.2.0",
            "_view_count": null,
            "flex_flow": null,
            "width": null,
            "min_width": null,
            "border": null,
            "align_items": null,
            "bottom": null,
            "_model_module": "@jupyter-widgets/base",
            "top": null,
            "grid_column": null,
            "overflow_y": null,
            "overflow_x": null,
            "grid_auto_flow": null,
            "grid_area": null,
            "grid_template_columns": null,
            "flex": null,
            "_model_name": "LayoutModel",
            "justify_items": null,
            "grid_row": null,
            "max_height": null,
            "align_content": null,
            "visibility": null,
            "align_self": null,
            "height": null,
            "min_height": null,
            "padding": null,
            "grid_auto_rows": null,
            "grid_gap": null,
            "max_width": null,
            "order": null,
            "_view_module_version": "1.2.0",
            "grid_template_areas": null,
            "object_position": null,
            "object_fit": null,
            "grid_auto_columns": null,
            "margin": null,
            "display": null,
            "left": null
          }
        }
      }
    }
  },
  "cells": [
    {
      "cell_type": "code",
      "metadata": {
        "id": "68iSvQn_buWl",
        "colab_type": "code",
        "colab": {
          "base_uri": "https://localhost:8080/",
          "height": 70
        },
        "outputId": "adb70d06-2ade-487c-d4cf-bebd8fd7e028"
      },
      "source": [
        "import torch\n",
        "import torchvision\n",
        "import torchvision.models as models\n",
        "from torchvision import datasets, models, transforms\n",
        "import torch.optim as optim\n",
        "import time\n",
        "import torch.nn.functional as F\n",
        "import torch.nn as nn\n",
        "import matplotlib.pyplot as plt\n",
        "import numpy as np\n",
        "import seaborn as sns\n",
        "from sklearn.metrics import multilabel_confusion_matrix\n",
        "from sklearn.metrics import confusion_matrix\n",
        "from sklearn.metrics import classification_report"
      ],
      "execution_count": 1,
      "outputs": [
        {
          "output_type": "stream",
          "text": [
            "/usr/local/lib/python3.6/dist-packages/statsmodels/tools/_testing.py:19: FutureWarning: pandas.util.testing is deprecated. Use the functions in the public API at pandas.testing instead.\n",
            "  import pandas.util.testing as tm\n"
          ],
          "name": "stderr"
        }
      ]
    },
    {
      "cell_type": "code",
      "metadata": {
        "id": "m_eWu-WSo-9f",
        "colab_type": "code",
        "colab": {
          "base_uri": "https://localhost:8080/",
          "height": 34
        },
        "outputId": "d38ccdb7-952f-4554-a6b3-09fb14f782cf"
      },
      "source": [
        "device = torch.device(\"cuda:0\" if torch.cuda.is_available() else \"cpu\")\n",
        "print(device)"
      ],
      "execution_count": 2,
      "outputs": [
        {
          "output_type": "stream",
          "text": [
            "cpu\n"
          ],
          "name": "stdout"
        }
      ]
    },
    {
      "cell_type": "code",
      "metadata": {
        "id": "xh2SWHTSkR1W",
        "colab_type": "code",
        "colab": {
          "base_uri": "https://localhost:8080/",
          "height": 121
        },
        "outputId": "7cd32ae3-b7d5-4328-c69b-aea6e0d7a1a8"
      },
      "source": [
        "from google.colab import drive\n",
        "drive.mount(\"./gdrive\")"
      ],
      "execution_count": 3,
      "outputs": [
        {
          "output_type": "stream",
          "text": [
            "Go to this URL in a browser: https://accounts.google.com/o/oauth2/auth?client_id=947318989803-6bn6qk8qdgf4n4g3pfee6491hc0brc4i.apps.googleusercontent.com&redirect_uri=urn%3aietf%3awg%3aoauth%3a2.0%3aoob&response_type=code&scope=email%20https%3a%2f%2fwww.googleapis.com%2fauth%2fdocs.test%20https%3a%2f%2fwww.googleapis.com%2fauth%2fdrive%20https%3a%2f%2fwww.googleapis.com%2fauth%2fdrive.photos.readonly%20https%3a%2f%2fwww.googleapis.com%2fauth%2fpeopleapi.readonly\n",
            "\n",
            "Enter your authorization code:\n",
            "··········\n",
            "Mounted at ./gdrive\n"
          ],
          "name": "stdout"
        }
      ]
    },
    {
      "cell_type": "code",
      "metadata": {
        "id": "xs9KOiAGCwut",
        "colab_type": "code",
        "colab": {}
      },
      "source": [
        "DATADIR = './gdrive/My Drive/DeepLearning/covid19'"
      ],
      "execution_count": 4,
      "outputs": []
    },
    {
      "cell_type": "code",
      "metadata": {
        "id": "tufp080mkiC-",
        "colab_type": "code",
        "colab": {
          "base_uri": "https://localhost:8080/",
          "height": 50
        },
        "outputId": "d3e76524-84ef-40c6-ee67-11cd0cc1f732"
      },
      "source": [
        "batch_size = 8\n",
        "Datatransforms = transforms.Compose([transforms.Resize(256),\n",
        "                                       transforms.CenterCrop(224),\n",
        "                                       transforms.ToTensor()\n",
        "                                       ,transforms.Normalize([0.485, 0.456, 0.406],\n",
        "                                                           [0.229, 0.224, 0.225])\n",
        "                                     ])\n",
        "\n",
        "mtransforms = transforms.Compose([transforms.Resize(224),\n",
        "                                      transforms.ToTensor(),\n",
        "                                      transforms.Normalize([0.517, 0.517, 0.517],\n",
        "                                                            [0.21, 0.21, 0.21])])\n",
        "\n",
        "#pass transform here-in\n",
        "train_data = datasets.ImageFolder(DATADIR + '/train', transform=Datatransforms)\n",
        "test_data = datasets.ImageFolder(DATADIR + '/test', transform=Datatransforms)\n",
        "# validation_data = datasets.ImageFolder(DATADIR + '/Validation', transform=Datatransforms)\n",
        "\n",
        "\n",
        "#data loaders\n",
        "trainloader = torch.utils.data.DataLoader(train_data, batch_size=batch_size, shuffle=True)\n",
        "testloader = torch.utils.data.DataLoader(test_data, batch_size=8, shuffle=True)\n",
        "# validationloader = torch.utils.data.DataLoader(validation_data, batch_size=batch_size, shuffle=True)\n",
        "\n",
        "print(\"Classes: \")\n",
        "class_names = train_data.classes\n",
        "print(class_names)"
      ],
      "execution_count": 5,
      "outputs": [
        {
          "output_type": "stream",
          "text": [
            "Classes: \n",
            "['COVID19', 'NORMAL', 'PNEUMONIA']\n"
          ],
          "name": "stdout"
        }
      ]
    },
    {
      "cell_type": "code",
      "metadata": {
        "id": "UFiZSOEEmbzA",
        "colab_type": "code",
        "colab": {
          "base_uri": "https://localhost:8080/",
          "height": 185
        },
        "outputId": "d601aafc-9030-42db-9cf9-7daa834318af"
      },
      "source": [
        "test_data"
      ],
      "execution_count": 17,
      "outputs": [
        {
          "output_type": "execute_result",
          "data": {
            "text/plain": [
              "Dataset ImageFolder\n",
              "    Number of datapoints: 1288\n",
              "    Root location: ./gdrive/My Drive/DeepLearning/covid19/test\n",
              "    StandardTransform\n",
              "Transform: Compose(\n",
              "               Resize(size=256, interpolation=PIL.Image.BILINEAR)\n",
              "               CenterCrop(size=(224, 224))\n",
              "               ToTensor()\n",
              "               Normalize(mean=[0.485, 0.456, 0.406], std=[0.229, 0.224, 0.225])\n",
              "           )"
            ]
          },
          "metadata": {
            "tags": []
          },
          "execution_count": 17
        }
      ]
    },
    {
      "cell_type": "code",
      "metadata": {
        "id": "Xx3-LeWunSvT",
        "colab_type": "code",
        "colab": {}
      },
      "source": [
        "train = [228, 4400, 2196]\n",
        "test = [116, 317, 855]\n"
      ],
      "execution_count": 19,
      "outputs": []
    },
    {
      "cell_type": "code",
      "metadata": {
        "id": "HTDnR-7GoJbh",
        "colab_type": "code",
        "colab": {
          "base_uri": "https://localhost:8080/",
          "height": 282
        },
        "outputId": "a9cd89f7-a2cf-461d-d481-0e02298e996b"
      },
      "source": [
        "x = np.array([1,2,3])\n",
        "w = 0.4\n",
        "ax = plt.subplot(111)\n",
        "ax.bar(x, train, width=w, color='#05dfd7', align='center')\n",
        "ax.bar(x+w, test, width=w, color='#a3f7bf', align='center')\n",
        "\n",
        "ax.set_xticks(x+w)\n",
        "ax.set_xticklabels( class_names )"
      ],
      "execution_count": 26,
      "outputs": [
        {
          "output_type": "execute_result",
          "data": {
            "text/plain": [
              "[Text(0, 0, 'COVID19'), Text(0, 0, 'NORMAL'), Text(0, 0, 'PNEUMONIA')]"
            ]
          },
          "metadata": {
            "tags": []
          },
          "execution_count": 26
        },
        {
          "output_type": "display_data",
          "data": {
            "image/png": "[encoded data removed]",
            "text/plain": [
              "<Figure size 432x288 with 1 Axes>"
            ]
          },
          "metadata": {
            "tags": [],
            "needs_background": "light"
          }
        }
      ]
    },
    {
      "cell_type": "code",
      "metadata": {
        "id": "mrV3eDJnklgA",
        "colab_type": "code",
        "colab": {}
      },
      "source": [
        "def imshow(inp, title=None):\n",
        "    inp = inp.numpy().transpose((1, 2, 0))\n",
        "    plt.axis('off')\n",
        "    plt.imshow(inp)\n",
        "    if title is not None:\n",
        "        plt.title(title)\n",
        "    plt.pause(0.001)\n",
        "\n",
        "def show_databatch(inputs, classes):\n",
        "    out = torchvision.utils.make_grid(inputs)\n",
        "    imshow(out, title=[class_names[x] for x in classes])"
      ],
      "execution_count": 6,
      "outputs": []
    },
    {
      "cell_type": "code",
      "metadata": {
        "id": "Eqg9NvNzkx3i",
        "colab_type": "code",
        "colab": {
          "base_uri": "https://localhost:8080/",
          "height": 34
        },
        "outputId": "44ae9929-9bf8-42d6-c3f9-1731c873813c"
      },
      "source": [
        "inputs, classes = next(iter(trainloader))\n",
        "inputs.shape, classes.shape"
      ],
      "execution_count": 7,
      "outputs": [
        {
          "output_type": "execute_result",
          "data": {
            "text/plain": [
              "(torch.Size([8, 3, 224, 224]), torch.Size([8]))"
            ]
          },
          "metadata": {
            "tags": []
          },
          "execution_count": 7
        }
      ]
    },
    {
      "cell_type": "code",
      "metadata": {
        "id": "tqE1Y1NOk7YX",
        "colab_type": "code",
        "colab": {
          "base_uri": "https://localhost:8080/",
          "height": 106
        },
        "outputId": "b2fbe813-e153-49bc-dcc4-71744e35221a"
      },
      "source": [
        "show_databatch(inputs, classes)"
      ],
      "execution_count": 8,
      "outputs": [
        {
          "output_type": "stream",
          "text": [
            "Clipping input data to the valid range for imshow with RGB data ([0..1] for floats or [0..255] for integers).\n"
          ],
          "name": "stderr"
        },
        {
          "output_type": "display_data",
          "data": {
            "image/png": "[encoded data removed]",
            "text/plain": [
              "<Figure size 432x288 with 1 Axes>"
            ]
          },
          "metadata": {
            "tags": [],
            "needs_background": "light"
          }
        }
      ]
    },
    {
      "cell_type": "code",
      "metadata": {
        "id": "NT2eDYbkk1JL",
        "colab_type": "code",
        "colab": {}
      },
      "source": [
        "def one_hot_encoding(labels):\n",
        "    labels = labels.to(device)\n",
        "    labels = labels.reshape(labels.size()[0], 1)\n",
        "    one_hot =  (labels == torch.arange(3, device=device))\n",
        "    \n",
        "    one_hot[:, 2] = one_hot[:, 0]+one_hot[:, 2]\n",
        "    return one_hot"
      ],
      "execution_count": 9,
      "outputs": []
    },
    {
      "cell_type": "code",
      "metadata": {
        "id": "hBj6mlt6k4QP",
        "colab_type": "code",
        "colab": {
          "base_uri": "https://localhost:8080/",
          "height": 151
        },
        "outputId": "4923f7f7-982f-4a51-d145-8a8f976c14f1"
      },
      "source": [
        "one_hot_encoding(classes)"
      ],
      "execution_count": 10,
      "outputs": [
        {
          "output_type": "execute_result",
          "data": {
            "text/plain": [
              "tensor([[False, False,  True],\n",
              "        [False, False,  True],\n",
              "        [False, False,  True],\n",
              "        [False, False,  True],\n",
              "        [False, False,  True],\n",
              "        [False,  True, False],\n",
              "        [False, False,  True],\n",
              "        [ True, False,  True]], device='cuda:0')"
            ]
          },
          "metadata": {
            "tags": []
          },
          "execution_count": 10
        }
      ]
    },
    {
      "cell_type": "code",
      "metadata": {
        "id": "I3f7kHA_bb-3",
        "colab_type": "code",
        "colab": {}
      },
      "source": [
        "def printConfusion_Matrix(c , classes_info , title):\n",
        "  plt.pause(0.01)\n",
        "  plt.figure()\n",
        "  ax= plt.subplot()\n",
        "  sns.heatmap(c, annot=True, ax = ax  ,cmap='Greens' ,fmt='g');\n",
        "\n",
        "  # labels, title and ticks\n",
        "  ax.set_xlabel('Predicted labels');ax.set_ylabel('True labels'); \n",
        "  ax.set_title(title); \n",
        "  ax.xaxis.set_ticklabels(classes_info); ax.yaxis.set_ticklabels(classes_info);\n",
        "\n",
        "\n",
        "\n",
        "def print_confusion_matrix(true_labels, predicted_labels):\n",
        "    conf_mat_multilabel = multilabel_confusion_matrix(true_labels, predicted_labels) \n",
        "    printConfusion_Matrix(conf_mat_multilabel[class_names.index(\"COVID19\")] , ['-ive','+ive'] , '0-index Label (Covid -19)' )\n",
        "    printConfusion_Matrix(conf_mat_multilabel[class_names.index(\"NORMAL\")] , ['-ive','+ive'] ,    '1-index Label (Normal)')\n",
        "    printConfusion_Matrix(conf_mat_multilabel[class_names.index(\"PNEUMONIA\")] , ['-ive','+ive']  , '2-index Label (Pneumonia)')\n",
        "  "
      ],
      "execution_count": 11,
      "outputs": []
    },
    {
      "cell_type": "code",
      "metadata": {
        "id": "E33J1RujxbJF",
        "colab_type": "code",
        "colab": {}
      },
      "source": [
        "class floss(nn.Module):\n",
        "    def __init__(self, alpha=1, gamma=1.2):\n",
        "        super(floss,self).__init__()\n",
        "        self.a = alpha\n",
        "        self.g = gamma\n",
        "        \n",
        "    def forward(self, outputs, labels):\n",
        "        bce = F.binary_cross_entropy_with_logits(outputs, labels)\n",
        "        pt = torch.exp(-bce)\n",
        "        loss = self.a * ((1-pt)**self.g) * bce\n",
        "        return loss.mean()"
      ],
      "execution_count": 12,
      "outputs": []
    },
    {
      "cell_type": "code",
      "metadata": {
        "id": "0HYS9koRdK8f",
        "colab_type": "code",
        "colab": {}
      },
      "source": [
        "def fit(model, train_dataloader, criterion, optimizer):\n",
        "    model.to(device)\n",
        "    model.train()\n",
        "    train_running_loss = 0.0\n",
        "    train_running_correct = 0\n",
        "    \n",
        "    for i, data in enumerate(train_dataloader):\n",
        "        \n",
        "        data, target = data[0].to(device), data[1].to(device)\n",
        "        labels = one_hot_encoding(target).float()\n",
        "        labels = labels.to(device)\n",
        "        \n",
        "        optimizer.zero_grad()\n",
        "        output = model(data)\n",
        "        loss = criterion(output, labels)\n",
        "        \n",
        "        train_running_loss += loss.item()\n",
        "        _, preds = torch.max(output.data, 1)\n",
        "        train_running_correct += (preds == target).sum().item()\n",
        "        loss.backward()\n",
        "        optimizer.step()\n",
        "    train_loss = train_running_loss/len(train_dataloader.dataset)\n",
        "    train_accuracy = 100. * train_running_correct/len(train_dataloader.dataset)\n",
        " \n",
        "    \n",
        "    return train_loss, train_accuracy"
      ],
      "execution_count": 13,
      "outputs": []
    },
    {
      "cell_type": "code",
      "metadata": {
        "id": "hu2dJT2QAt6p",
        "colab_type": "code",
        "colab": {}
      },
      "source": [
        "def train(model, critarion, optimizer, trainloader,  epochs = 10):\n",
        "\n",
        "    train_loss , train_accuracy = [], []\n",
        "    val_loss , val_accuracy = [], []\n",
        "    start = time.time()\n",
        "    for epoch in range(epochs):\n",
        "        train_epoch_loss, train_epoch_accuracy = fit(model, trainloader, critarion, optimizer)\n",
        "        train_loss.append(train_epoch_loss)\n",
        "        train_accuracy.append(train_epoch_accuracy)\n",
        "        print('Epoch: ', epoch)\n",
        "        print(f'Train Loss: {train_epoch_loss}, Train Acc: {train_epoch_accuracy}')\n",
        "        \n",
        "        print('==========================================================================')\n",
        "    end = time.time()\n",
        "\n",
        "    print('Running Time: ',(end-start)/60, 'minutes')\n",
        "\n",
        "    return train_loss , train_accuracy"
      ],
      "execution_count": 14,
      "outputs": []
    },
    {
      "cell_type": "code",
      "metadata": {
        "colab_type": "code",
        "id": "S1AZIjrAaUSv",
        "colab": {}
      },
      "source": [
        "def test(model, test_dataloader, criterion):\n",
        "    model.to(device)\n",
        "    model.eval()\n",
        "    val_running_loss = 0.0\n",
        "    val_running_correct = 0\n",
        "    test_predicted = list()\n",
        "    test_true_labels = list()\n",
        "    for int, data in enumerate(test_dataloader):\n",
        "        data, target = data[0].to(device), data[1].to(device)\n",
        "        \n",
        "        labels = one_hot_encoding(target).float()\n",
        "        labels = labels.to(device)\n",
        "        output = model(data)\n",
        "        loss = criterion(output, labels)\n",
        "        \n",
        "        val_running_loss += loss.item()\n",
        "        _, preds = torch.max(output.data, 1)\n",
        "        val_running_correct += (preds == target).sum().item()\n",
        "\n",
        "        test_predicted.extend(list(np.array(preds.cpu())))\n",
        "        test_true_labels.extend(list(np.array(target.cpu())))\n",
        "\n",
        "    val_loss = val_running_loss/len(test_dataloader.dataset)\n",
        "    val_accuracy = 100. * val_running_correct/len(test_dataloader.dataset)\n",
        "    \n",
        "\n",
        "    return val_loss, val_accuracy, test_predicted, test_true_labels"
      ],
      "execution_count": 15,
      "outputs": []
    },
    {
      "cell_type": "code",
      "metadata": {
        "id": "DS51L6Mry9Hc",
        "colab_type": "code",
        "colab": {
          "base_uri": "https://localhost:8080/",
          "height": 805,
          "referenced_widgets": [
            "46d8c124f3c740719b619b036dace61d",
            "2cdf90d2f1c84a0b9c9c356d242e1a1d",
            "2c9a8af5ae784ffb9887a7382256c7ac",
            "ebd9207ceaca478b9420cdb147dc78b7",
            "f132c8212e5d4fc1b5d5a23fd042fb9e",
            "827dbde778974a8a8a56fd032eb427fa",
            "861a6ba1e6cc43e99cc5fde615ee12f6",
            "cae7192fdfc84f008140ed28f6779d64"
          ]
        },
        "outputId": "7ab3606a-0e71-4910-d58f-229bfd650c9c"
      },
      "source": [
        "vgg16_NL = models.vgg16(pretrained=True)\n",
        "for param in vgg16_NL.features.parameters():\n",
        "    param.require_grad = False\n",
        "\n",
        "num_features = vgg16_NL.classifier[0].in_features\n",
        "\n",
        "newClassifierLayers = [nn.Linear(num_features, 1024) , nn.ReLU(inplace=True) , nn.Dropout(p =0.5)  ]\n",
        "newClassifierLayers.extend([nn.Linear(1024, 128)])\n",
        "newClassifierLayers.extend([nn.Linear(128, len(class_names))])\n",
        "vgg16_NL.classifier = nn.Sequential(*newClassifierLayers)\n",
        "vgg16_NL"
      ],
      "execution_count": null,
      "outputs": [
        {
          "output_type": "stream",
          "text": [
            "Downloading: \"https://download.pytorch.org/models/vgg16-397923af.pth\" to /root/.cache/torch/checkpoints/vgg16-397923af.pth\n"
          ],
          "name": "stderr"
        },
        {
          "output_type": "display_data",
          "data": {
            "application/vnd.jupyter.widget-view+json": {
              "model_id": "46d8c124f3c740719b619b036dace61d",
              "version_minor": 0,
              "version_major": 2
            },
            "text/plain": [
              "HBox(children=(FloatProgress(value=0.0, max=553433881.0), HTML(value='')))"
            ]
          },
          "metadata": {
            "tags": []
          }
        },
        {
          "output_type": "stream",
          "text": [
            "\n"
          ],
          "name": "stdout"
        },
        {
          "output_type": "execute_result",
          "data": {
            "text/plain": [
              "VGG(\n",
              "  (features): Sequential(\n",
              "    (0): Conv2d(3, 64, kernel_size=(3, 3), stride=(1, 1), padding=(1, 1))\n",
              "    (1): ReLU(inplace=True)\n",
              "    (2): Conv2d(64, 64, kernel_size=(3, 3), stride=(1, 1), padding=(1, 1))\n",
              "    (3): ReLU(inplace=True)\n",
              "    (4): MaxPool2d(kernel_size=2, stride=2, padding=0, dilation=1, ceil_mode=False)\n",
              "    (5): Conv2d(64, 128, kernel_size=(3, 3), stride=(1, 1), padding=(1, 1))\n",
              "    (6): ReLU(inplace=True)\n",
              "    (7): Conv2d(128, 128, kernel_size=(3, 3), stride=(1, 1), padding=(1, 1))\n",
              "    (8): ReLU(inplace=True)\n",
              "    (9): MaxPool2d(kernel_size=2, stride=2, padding=0, dilation=1, ceil_mode=False)\n",
              "    (10): Conv2d(128, 256, kernel_size=(3, 3), stride=(1, 1), padding=(1, 1))\n",
              "    (11): ReLU(inplace=True)\n",
              "    (12): Conv2d(256, 256, kernel_size=(3, 3), stride=(1, 1), padding=(1, 1))\n",
              "    (13): ReLU(inplace=True)\n",
              "    (14): Conv2d(256, 256, kernel_size=(3, 3), stride=(1, 1), padding=(1, 1))\n",
              "    (15): ReLU(inplace=True)\n",
              "    (16): MaxPool2d(kernel_size=2, stride=2, padding=0, dilation=1, ceil_mode=False)\n",
              "    (17): Conv2d(256, 512, kernel_size=(3, 3), stride=(1, 1), padding=(1, 1))\n",
              "    (18): ReLU(inplace=True)\n",
              "    (19): Conv2d(512, 512, kernel_size=(3, 3), stride=(1, 1), padding=(1, 1))\n",
              "    (20): ReLU(inplace=True)\n",
              "    (21): Conv2d(512, 512, kernel_size=(3, 3), stride=(1, 1), padding=(1, 1))\n",
              "    (22): ReLU(inplace=True)\n",
              "    (23): MaxPool2d(kernel_size=2, stride=2, padding=0, dilation=1, ceil_mode=False)\n",
              "    (24): Conv2d(512, 512, kernel_size=(3, 3), stride=(1, 1), padding=(1, 1))\n",
              "    (25): ReLU(inplace=True)\n",
              "    (26): Conv2d(512, 512, kernel_size=(3, 3), stride=(1, 1), padding=(1, 1))\n",
              "    (27): ReLU(inplace=True)\n",
              "    (28): Conv2d(512, 512, kernel_size=(3, 3), stride=(1, 1), padding=(1, 1))\n",
              "    (29): ReLU(inplace=True)\n",
              "    (30): MaxPool2d(kernel_size=2, stride=2, padding=0, dilation=1, ceil_mode=False)\n",
              "  )\n",
              "  (avgpool): AdaptiveAvgPool2d(output_size=(7, 7))\n",
              "  (classifier): Sequential(\n",
              "    (0): Linear(in_features=25088, out_features=1024, bias=True)\n",
              "    (1): ReLU(inplace=True)\n",
              "    (2): Dropout(p=0.5, inplace=False)\n",
              "    (3): Linear(in_features=1024, out_features=128, bias=True)\n",
              "    (4): Linear(in_features=128, out_features=3, bias=True)\n",
              "  )\n",
              ")"
            ]
          },
          "metadata": {
            "tags": []
          },
          "execution_count": 16
        }
      ]
    },
    {
      "cell_type": "code",
      "metadata": {
        "id": "Tibv_gWfoT3p",
        "colab_type": "code",
        "colab": {
          "base_uri": "https://localhost:8080/",
          "height": 1000
        },
        "outputId": "a3b22ba8-cbd9-4b5a-c056-101f760af644"
      },
      "source": [
        "model = vgg16_NL\n",
        "critarion = floss()\n",
        "optimizer = optim.SGD(model.parameters(), lr=0.001, momentum=0.9)\n",
        "epochs = 20\n",
        "\n",
        "train_loss , train_accuracy = train(model, critarion, optimizer, trainloader, epochs)\n",
        "torch.save(model, './gdrive/My Drive/DeepLearning/vgg16_trained_new')\n",
        "test_loss, test_accuracy, test_predicted, test_true_labels = test(model, testloader, critarion)\n",
        "\n",
        "print(f'Test Loss: {test_loss}, Test Acc: {test_accuracy}')"
      ],
      "execution_count": null,
      "outputs": [
        {
          "output_type": "stream",
          "text": [
            "Epoch:  0\n",
            "Train Loss: 0.00574666131549125, Train Acc: 86.1664712778429\n",
            "==========================================================================\n",
            "Epoch:  1\n",
            "Train Loss: 0.002624027352046162, Train Acc: 90.2989449003517\n",
            "==========================================================================\n",
            "Epoch:  2\n",
            "Train Loss: 0.002479117502192286, Train Acc: 90.82649472450176\n",
            "==========================================================================\n",
            "Epoch:  3\n",
            "Train Loss: 0.0015951941151547357, Train Acc: 92.20398593200468\n",
            "==========================================================================\n",
            "Epoch:  4\n",
            "Train Loss: 0.0011606228275766323, Train Acc: 92.86342321219226\n",
            "==========================================================================\n",
            "Epoch:  5\n",
            "Train Loss: 0.0008883655485878374, Train Acc: 93.8599062133646\n",
            "==========================================================================\n",
            "Epoch:  6\n",
            "Train Loss: 0.00058956063166141, Train Acc: 94.5926143024619\n",
            "==========================================================================\n",
            "Epoch:  7\n",
            "Train Loss: 0.0005261981286308081, Train Acc: 95.03223915592028\n",
            "==========================================================================\n",
            "Epoch:  8\n",
            "Train Loss: 0.0002345599120989211, Train Acc: 95.7356389214537\n",
            "==========================================================================\n",
            "Epoch:  9\n",
            "Train Loss: 0.00011997423048288453, Train Acc: 96.29249706916764\n",
            "==========================================================================\n",
            "Epoch:  10\n",
            "Train Loss: 7.992589311084889e-05, Train Acc: 96.58558030480657\n",
            "==========================================================================\n",
            "Epoch:  11\n",
            "Train Loss: 6.99182173260927e-05, Train Acc: 96.60023446658852\n",
            "==========================================================================\n",
            "Epoch:  12\n",
            "Train Loss: 4.459529131716749e-05, Train Acc: 96.73212192262602\n",
            "==========================================================================\n",
            "Epoch:  13\n",
            "Train Loss: 2.402969661404164e-05, Train Acc: 96.87866354044549\n",
            "==========================================================================\n",
            "Epoch:  14\n",
            "Train Loss: 2.0465196395018597e-05, Train Acc: 96.83470105509964\n",
            "==========================================================================\n",
            "Epoch:  15\n",
            "Train Loss: 2.2375896191169735e-05, Train Acc: 96.76143024618992\n",
            "==========================================================================\n",
            "Epoch:  16\n",
            "Train Loss: 1.3013251205571683e-05, Train Acc: 96.86400937866354\n",
            "==========================================================================\n",
            "Epoch:  17\n",
            "Train Loss: 1.283266329177542e-05, Train Acc: 96.90797186400938\n",
            "==========================================================================\n",
            "Epoch:  18\n",
            "Train Loss: 8.875004489881125e-06, Train Acc: 96.89331770222744\n",
            "==========================================================================\n",
            "Epoch:  19\n",
            "Train Loss: 6.63469421853591e-06, Train Acc: 96.89331770222744\n",
            "==========================================================================\n",
            "Running Time:  175.4692112326622 minutes\n",
            "Test Loss: 0.14668826948596825, Test Acc: 71.66149068322981\n"
          ],
          "name": "stdout"
        }
      ]
    },
    {
      "cell_type": "code",
      "metadata": {
        "id": "8hMvMOv20S92",
        "colab_type": "code",
        "colab": {
          "base_uri": "https://localhost:8080/",
          "height": 285
        },
        "outputId": "1232022a-5caa-40a1-cfcc-cc785e174170"
      },
      "source": [
        "plt.plot(range(len(train_loss)), train_loss)"
      ],
      "execution_count": null,
      "outputs": [
        {
          "output_type": "execute_result",
          "data": {
            "text/plain": [
              "[<matplotlib.lines.Line2D at 0x7f1533b17f28>]"
            ]
          },
          "metadata": {
            "tags": []
          },
          "execution_count": 18
        },
        {
          "output_type": "display_data",
          "data": {
            "image/png": "[encoded data removed]",
            "text/plain": [
              "<Figure size 432x288 with 1 Axes>"
            ]
          },
          "metadata": {
            "tags": [],
            "needs_background": "light"
          }
        }
      ]
    },
    {
      "cell_type": "code",
      "metadata": {
        "id": "Y3FbTnWmAJ1A",
        "colab_type": "code",
        "colab": {
          "base_uri": "https://localhost:8080/",
          "height": 282
        },
        "outputId": "585ac00c-4952-4ea0-a304-7f3d5a023f07"
      },
      "source": [
        "\n",
        "plt.plot(range(len(train_accuracy)), train_accuracy)"
      ],
      "execution_count": null,
      "outputs": [
        {
          "output_type": "execute_result",
          "data": {
            "text/plain": [
              "[<matplotlib.lines.Line2D at 0x7f1533a9f4a8>]"
            ]
          },
          "metadata": {
            "tags": []
          },
          "execution_count": 19
        },
        {
          "output_type": "display_data",
          "data": {
            "image/png": "[encoded data removed]",
            "text/plain": [
              "<Figure size 432x288 with 1 Axes>"
            ]
          },
          "metadata": {
            "tags": [],
            "needs_background": "light"
          }
        }
      ]
    },
    {
      "cell_type": "code",
      "metadata": {
        "id": "_vwGL0XM0ZMT",
        "colab_type": "code",
        "colab": {
          "base_uri": "https://localhost:8080/",
          "height": 851
        },
        "outputId": "0e8a7f65-8994-4925-ba28-8ef9f0a7e641"
      },
      "source": [
        "print_confusion_matrix(test_true_labels, test_predicted)"
      ],
      "execution_count": null,
      "outputs": [
        {
          "output_type": "display_data",
          "data": {
            "image/png": "[encoded data removed]",
            "text/plain": [
              "<Figure size 432x288 with 2 Axes>"
            ]
          },
          "metadata": {
            "tags": [],
            "needs_background": "light"
          }
        },
        {
          "output_type": "display_data",
          "data": {
            "image/png": "[encoded data removed]",
            "text/plain": [
              "<Figure size 432x288 with 2 Axes>"
            ]
          },
          "metadata": {
            "tags": [],
            "needs_background": "light"
          }
        },
        {
          "output_type": "display_data",
          "data": {
            "image/png": "[encoded data removed]",
            "text/plain": [
              "<Figure size 432x288 with 2 Axes>"
            ]
          },
          "metadata": {
            "tags": [],
            "needs_background": "light"
          }
        }
      ]
    },
    {
      "cell_type": "code",
      "metadata": {
        "id": "I_X3OFsM0dM-",
        "colab_type": "code",
        "colab": {
          "base_uri": "https://localhost:8080/",
          "height": 185
        },
        "outputId": "33b5e129-1e69-45f9-a505-0c70ec71c9d5"
      },
      "source": [
        "\n",
        "print(classification_report(test_true_labels, test_predicted, target_names=class_names))"
      ],
      "execution_count": null,
      "outputs": [
        {
          "output_type": "stream",
          "text": [
            "              precision    recall  f1-score   support\n",
            "\n",
            "     COVID19       0.07      0.05      0.06       116\n",
            "      NORMAL       0.80      0.28      0.42       317\n",
            "   PNEUMONIA       0.76      0.97      0.85       855\n",
            "\n",
            "    accuracy                           0.72      1288\n",
            "   macro avg       0.54      0.43      0.44      1288\n",
            "weighted avg       0.71      0.72      0.67      1288\n",
            "\n"
          ],
          "name": "stdout"
        }
      ]
    },
    {
      "cell_type": "code",
      "metadata": {
        "id": "8Nt_a0P0sati",
        "colab_type": "code",
        "colab": {
          "base_uri": "https://localhost:8080/",
          "height": 1000,
          "referenced_widgets": [
            "f5a9ebff168147db87c27ef2e7ab8d5d",
            "08978e2b2aa5441f98e33d96f77af13b",
            "e29974a50e5e4ee0aa6e63b4f73f5838",
            "230ca14a46fe4ad38f3aa31168848fac",
            "ffc588d0adff422c90116bef03615e21",
            "e1b03d51f56c48e78e4f80c33c20cee0",
            "cbecac87f12048ef8db0f5b79da8cb29",
            "dadf18a4be9c4389a1e63c6cd4cbebbe"
          ]
        },
        "outputId": "0764ac93-d6a3-4908-a810-8f3c10d38c72"
      },
      "source": [
        "resnet18 = models.resnet18(pretrained=True)\n",
        "for param in resnet18.parameters():\n",
        "    param.requires_grad = False\n",
        "num_features = resnet18.fc.in_features\n",
        "fc = [\n",
        "      nn.Linear(num_features, 1024),\n",
        "      nn.ReLU(),\n",
        "      nn.Linear(1024, 128),\n",
        "      nn.ReLU(),\n",
        "      # nn.Linear(2048, 1024),\n",
        "      # nn.ReLU(),\n",
        "      nn.Linear(128, len(train_data.classes))\n",
        "]\n",
        "resnet18.fc = nn.Sequential(*fc)\n",
        "for param in resnet18.fc.parameters():\n",
        "    param.requires_grad = True\n",
        "resnet18"
      ],
      "execution_count": null,
      "outputs": [
        {
          "output_type": "stream",
          "text": [
            "Downloading: \"https://download.pytorch.org/models/resnet18-5c106cde.pth\" to /root/.cache/torch/checkpoints/resnet18-5c106cde.pth\n"
          ],
          "name": "stderr"
        },
        {
          "output_type": "display_data",
          "data": {
            "application/vnd.jupyter.widget-view+json": {
              "model_id": "f5a9ebff168147db87c27ef2e7ab8d5d",
              "version_minor": 0,
              "version_major": 2
            },
            "text/plain": [
              "HBox(children=(FloatProgress(value=0.0, max=46827520.0), HTML(value='')))"
            ]
          },
          "metadata": {
            "tags": []
          }
        },
        {
          "output_type": "stream",
          "text": [
            "\n"
          ],
          "name": "stdout"
        },
        {
          "output_type": "execute_result",
          "data": {
            "text/plain": [
              "ResNet(\n",
              "  (conv1): Conv2d(3, 64, kernel_size=(7, 7), stride=(2, 2), padding=(3, 3), bias=False)\n",
              "  (bn1): BatchNorm2d(64, eps=1e-05, momentum=0.1, affine=True, track_running_stats=True)\n",
              "  (relu): ReLU(inplace=True)\n",
              "  (maxpool): MaxPool2d(kernel_size=3, stride=2, padding=1, dilation=1, ceil_mode=False)\n",
              "  (layer1): Sequential(\n",
              "    (0): BasicBlock(\n",
              "      (conv1): Conv2d(64, 64, kernel_size=(3, 3), stride=(1, 1), padding=(1, 1), bias=False)\n",
              "      (bn1): BatchNorm2d(64, eps=1e-05, momentum=0.1, affine=True, track_running_stats=True)\n",
              "      (relu): ReLU(inplace=True)\n",
              "      (conv2): Conv2d(64, 64, kernel_size=(3, 3), stride=(1, 1), padding=(1, 1), bias=False)\n",
              "      (bn2): BatchNorm2d(64, eps=1e-05, momentum=0.1, affine=True, track_running_stats=True)\n",
              "    )\n",
              "    (1): BasicBlock(\n",
              "      (conv1): Conv2d(64, 64, kernel_size=(3, 3), stride=(1, 1), padding=(1, 1), bias=False)\n",
              "      (bn1): BatchNorm2d(64, eps=1e-05, momentum=0.1, affine=True, track_running_stats=True)\n",
              "      (relu): ReLU(inplace=True)\n",
              "      (conv2): Conv2d(64, 64, kernel_size=(3, 3), stride=(1, 1), padding=(1, 1), bias=False)\n",
              "      (bn2): BatchNorm2d(64, eps=1e-05, momentum=0.1, affine=True, track_running_stats=True)\n",
              "    )\n",
              "  )\n",
              "  (layer2): Sequential(\n",
              "    (0): BasicBlock(\n",
              "      (conv1): Conv2d(64, 128, kernel_size=(3, 3), stride=(2, 2), padding=(1, 1), bias=False)\n",
              "      (bn1): BatchNorm2d(128, eps=1e-05, momentum=0.1, affine=True, track_running_stats=True)\n",
              "      (relu): ReLU(inplace=True)\n",
              "      (conv2): Conv2d(128, 128, kernel_size=(3, 3), stride=(1, 1), padding=(1, 1), bias=False)\n",
              "      (bn2): BatchNorm2d(128, eps=1e-05, momentum=0.1, affine=True, track_running_stats=True)\n",
              "      (downsample): Sequential(\n",
              "        (0): Conv2d(64, 128, kernel_size=(1, 1), stride=(2, 2), bias=False)\n",
              "        (1): BatchNorm2d(128, eps=1e-05, momentum=0.1, affine=True, track_running_stats=True)\n",
              "      )\n",
              "    )\n",
              "    (1): BasicBlock(\n",
              "      (conv1): Conv2d(128, 128, kernel_size=(3, 3), stride=(1, 1), padding=(1, 1), bias=False)\n",
              "      (bn1): BatchNorm2d(128, eps=1e-05, momentum=0.1, affine=True, track_running_stats=True)\n",
              "      (relu): ReLU(inplace=True)\n",
              "      (conv2): Conv2d(128, 128, kernel_size=(3, 3), stride=(1, 1), padding=(1, 1), bias=False)\n",
              "      (bn2): BatchNorm2d(128, eps=1e-05, momentum=0.1, affine=True, track_running_stats=True)\n",
              "    )\n",
              "  )\n",
              "  (layer3): Sequential(\n",
              "    (0): BasicBlock(\n",
              "      (conv1): Conv2d(128, 256, kernel_size=(3, 3), stride=(2, 2), padding=(1, 1), bias=False)\n",
              "      (bn1): BatchNorm2d(256, eps=1e-05, momentum=0.1, affine=True, track_running_stats=True)\n",
              "      (relu): ReLU(inplace=True)\n",
              "      (conv2): Conv2d(256, 256, kernel_size=(3, 3), stride=(1, 1), padding=(1, 1), bias=False)\n",
              "      (bn2): BatchNorm2d(256, eps=1e-05, momentum=0.1, affine=True, track_running_stats=True)\n",
              "      (downsample): Sequential(\n",
              "        (0): Conv2d(128, 256, kernel_size=(1, 1), stride=(2, 2), bias=False)\n",
              "        (1): BatchNorm2d(256, eps=1e-05, momentum=0.1, affine=True, track_running_stats=True)\n",
              "      )\n",
              "    )\n",
              "    (1): BasicBlock(\n",
              "      (conv1): Conv2d(256, 256, kernel_size=(3, 3), stride=(1, 1), padding=(1, 1), bias=False)\n",
              "      (bn1): BatchNorm2d(256, eps=1e-05, momentum=0.1, affine=True, track_running_stats=True)\n",
              "      (relu): ReLU(inplace=True)\n",
              "      (conv2): Conv2d(256, 256, kernel_size=(3, 3), stride=(1, 1), padding=(1, 1), bias=False)\n",
              "      (bn2): BatchNorm2d(256, eps=1e-05, momentum=0.1, affine=True, track_running_stats=True)\n",
              "    )\n",
              "  )\n",
              "  (layer4): Sequential(\n",
              "    (0): BasicBlock(\n",
              "      (conv1): Conv2d(256, 512, kernel_size=(3, 3), stride=(2, 2), padding=(1, 1), bias=False)\n",
              "      (bn1): BatchNorm2d(512, eps=1e-05, momentum=0.1, affine=True, track_running_stats=True)\n",
              "      (relu): ReLU(inplace=True)\n",
              "      (conv2): Conv2d(512, 512, kernel_size=(3, 3), stride=(1, 1), padding=(1, 1), bias=False)\n",
              "      (bn2): BatchNorm2d(512, eps=1e-05, momentum=0.1, affine=True, track_running_stats=True)\n",
              "      (downsample): Sequential(\n",
              "        (0): Conv2d(256, 512, kernel_size=(1, 1), stride=(2, 2), bias=False)\n",
              "        (1): BatchNorm2d(512, eps=1e-05, momentum=0.1, affine=True, track_running_stats=True)\n",
              "      )\n",
              "    )\n",
              "    (1): BasicBlock(\n",
              "      (conv1): Conv2d(512, 512, kernel_size=(3, 3), stride=(1, 1), padding=(1, 1), bias=False)\n",
              "      (bn1): BatchNorm2d(512, eps=1e-05, momentum=0.1, affine=True, track_running_stats=True)\n",
              "      (relu): ReLU(inplace=True)\n",
              "      (conv2): Conv2d(512, 512, kernel_size=(3, 3), stride=(1, 1), padding=(1, 1), bias=False)\n",
              "      (bn2): BatchNorm2d(512, eps=1e-05, momentum=0.1, affine=True, track_running_stats=True)\n",
              "    )\n",
              "  )\n",
              "  (avgpool): AdaptiveAvgPool2d(output_size=(1, 1))\n",
              "  (fc): Sequential(\n",
              "    (0): Linear(in_features=512, out_features=1024, bias=True)\n",
              "    (1): ReLU()\n",
              "    (2): Linear(in_features=1024, out_features=128, bias=True)\n",
              "    (3): ReLU()\n",
              "    (4): Linear(in_features=128, out_features=3, bias=True)\n",
              "  )\n",
              ")"
            ]
          },
          "metadata": {
            "tags": []
          },
          "execution_count": 16
        }
      ]
    },
    {
      "cell_type": "code",
      "metadata": {
        "id": "DU6hWzliZcnH",
        "colab_type": "code",
        "colab": {
          "base_uri": "https://localhost:8080/",
          "height": 1000
        },
        "outputId": "f8939fc6-1842-478a-9128-5d5fbf82f57b"
      },
      "source": [
        "model = resnet18\n",
        "critarion = floss()\n",
        "optimizer = optim.SGD(model.parameters(), lr=0.001, momentum=0.9)\n",
        "epochs = 20\n",
        "\n",
        "train_loss , train_accuracy = train(model, critarion, optimizer, trainloader, epochs)\n"
      ],
      "execution_count": null,
      "outputs": [
        {
          "output_type": "stream",
          "text": [
            "Epoch:  0\n",
            "Train Loss: 0.014655726582520496, Train Acc: 73.10961313012896\n",
            "==========================================================================\n",
            "Epoch:  1\n",
            "Train Loss: 0.008759026434752928, Train Acc: 82.18053927315357\n",
            "==========================================================================\n",
            "Epoch:  2\n",
            "Train Loss: 0.008127144241198113, Train Acc: 82.6934349355217\n",
            "==========================================================================\n",
            "Epoch:  3\n",
            "Train Loss: 0.007555991341400857, Train Acc: 83.10375146541618\n",
            "==========================================================================\n",
            "Epoch:  4\n",
            "Train Loss: 0.0068163397189479205, Train Acc: 84.24677608440797\n",
            "==========================================================================\n",
            "Epoch:  5\n",
            "Train Loss: 0.006893977423903837, Train Acc: 83.54337631887456\n",
            "==========================================================================\n",
            "Epoch:  6\n",
            "Train Loss: 0.006762823345886701, Train Acc: 83.76318874560376\n",
            "==========================================================================\n",
            "Epoch:  7\n",
            "Train Loss: 0.006467781659246533, Train Acc: 84.14419695193435\n",
            "==========================================================================\n",
            "Epoch:  8\n",
            "Train Loss: 0.006393907074075452, Train Acc: 84.42262602579133\n",
            "==========================================================================\n",
            "Epoch:  9\n",
            "Train Loss: 0.005667230953523973, Train Acc: 84.95017584994139\n",
            "==========================================================================\n",
            "Epoch:  10\n",
            "Train Loss: 0.005958856296306448, Train Acc: 84.21746776084407\n",
            "==========================================================================\n",
            "Epoch:  11\n",
            "Train Loss: 0.005741575184818778, Train Acc: 84.83294255568582\n",
            "==========================================================================\n",
            "Epoch:  12\n",
            "Train Loss: 0.005349124220088586, Train Acc: 85.55099648300117\n",
            "==========================================================================\n",
            "Epoch:  13\n",
            "Train Loss: 0.005899882482003517, Train Acc: 84.58382180539273\n",
            "==========================================================================\n",
            "Epoch:  14\n",
            "Train Loss: 0.005609920615582003, Train Acc: 84.97948417350527\n",
            "==========================================================================\n",
            "Epoch:  15\n",
            "Train Loss: 0.0056678499928848915, Train Acc: 85.30187573270808\n",
            "==========================================================================\n",
            "Epoch:  16\n",
            "Train Loss: 0.0054670302595680904, Train Acc: 85.31652989449003\n",
            "==========================================================================\n",
            "Epoch:  17\n",
            "Train Loss: 0.005320373609046406, Train Acc: 85.88804220398593\n",
            "==========================================================================\n",
            "Epoch:  18\n",
            "Train Loss: 0.00515566756335021, Train Acc: 85.28722157092615\n",
            "==========================================================================\n",
            "Epoch:  19\n",
            "Train Loss: 0.005140407465980115, Train Acc: 85.87338804220398\n",
            "==========================================================================\n",
            "Running Time:  298.55323918263116 minutes\n"
          ],
          "name": "stdout"
        }
      ]
    },
    {
      "cell_type": "code",
      "metadata": {
        "id": "Q8zpsyZ0XDgW",
        "colab_type": "code",
        "colab": {
          "base_uri": "https://localhost:8080/",
          "height": 34
        },
        "outputId": "37dccca4-bb62-4254-a81d-3a9de6568ab5"
      },
      "source": [
        "test_loss, test_accuracy, test_predicted, test_true_labels = test(model, testloader, critarion)\n",
        "\n",
        "print(f'Test Loss: {test_loss}, Test Acc: {test_accuracy}')"
      ],
      "execution_count": null,
      "outputs": [
        {
          "output_type": "stream",
          "text": [
            "Test Loss: 0.0414764464121335, Test Acc: 45.18633540372671\n"
          ],
          "name": "stdout"
        }
      ]
    },
    {
      "cell_type": "code",
      "metadata": {
        "id": "EPKjS0HJfaPd",
        "colab_type": "code",
        "colab": {}
      },
      "source": [
        "torch.save(model, './gdrive/My Drive/DeepLearning/resnet18_trained')"
      ],
      "execution_count": null,
      "outputs": []
    },
    {
      "cell_type": "code",
      "metadata": {
        "id": "I4fRaMmtfeFt",
        "colab_type": "code",
        "colab": {
          "base_uri": "https://localhost:8080/",
          "height": 282
        },
        "outputId": "c172ea4f-437b-401d-a70f-53643aac0ca2"
      },
      "source": [
        "plt.plot(range(len(train_loss)), train_loss)"
      ],
      "execution_count": null,
      "outputs": [
        {
          "output_type": "execute_result",
          "data": {
            "text/plain": [
              "[<matplotlib.lines.Line2D at 0x7fb399c0e4a8>]"
            ]
          },
          "metadata": {
            "tags": []
          },
          "execution_count": 20
        },
        {
          "output_type": "display_data",
          "data": {
            "image/png": "[encoded data removed]",
            "text/plain": [
              "<Figure size 432x288 with 1 Axes>"
            ]
          },
          "metadata": {
            "tags": [],
            "needs_background": "light"
          }
        }
      ]
    },
    {
      "cell_type": "code",
      "metadata": {
        "id": "_R267PrhfhC8",
        "colab_type": "code",
        "colab": {
          "base_uri": "https://localhost:8080/",
          "height": 282
        },
        "outputId": "7bfbac2f-a30c-4ab3-f5fe-bbd4e6e88a08"
      },
      "source": [
        "plt.plot(range(len(train_accuracy)), train_accuracy)"
      ],
      "execution_count": null,
      "outputs": [
        {
          "output_type": "execute_result",
          "data": {
            "text/plain": [
              "[<matplotlib.lines.Line2D at 0x7fb399b7ce80>]"
            ]
          },
          "metadata": {
            "tags": []
          },
          "execution_count": 21
        },
        {
          "output_type": "display_data",
          "data": {
            "image/png": "[encoded data removed]",
            "text/plain": [
              "<Figure size 432x288 with 1 Axes>"
            ]
          },
          "metadata": {
            "tags": [],
            "needs_background": "light"
          }
        }
      ]
    },
    {
      "cell_type": "code",
      "metadata": {
        "id": "D8WXLIaAfnnV",
        "colab_type": "code",
        "colab": {
          "base_uri": "https://localhost:8080/",
          "height": 851
        },
        "outputId": "0489d2f4-aba0-4dfe-c003-f14d29dd23b6"
      },
      "source": [
        "print_confusion_matrix(test_true_labels, test_predicted)"
      ],
      "execution_count": null,
      "outputs": [
        {
          "output_type": "display_data",
          "data": {
            "image/png": "[encoded data removed]",
            "text/plain": [
              "<Figure size 432x288 with 2 Axes>"
            ]
          },
          "metadata": {
            "tags": [],
            "needs_background": "light"
          }
        },
        {
          "output_type": "display_data",
          "data": {
            "image/png": "[encoded data removed]",
            "text/plain": [
              "<Figure size 432x288 with 2 Axes>"
            ]
          },
          "metadata": {
            "tags": [],
            "needs_background": "light"
          }
        },
        {
          "output_type": "display_data",
          "data": {
            "image/png": "[encoded data removed]",
            "text/plain": [
              "<Figure size 432x288 with 2 Axes>"
            ]
          },
          "metadata": {
            "tags": [],
            "needs_background": "light"
          }
        }
      ]
    },
    {
      "cell_type": "code",
      "metadata": {
        "id": "0JkOeMQJfrM0",
        "colab_type": "code",
        "colab": {
          "base_uri": "https://localhost:8080/",
          "height": 185
        },
        "outputId": "7b2d12b5-9bc6-4989-a6e6-2e2695966c3f"
      },
      "source": [
        "print(classification_report(test_true_labels, test_predicted, target_names=class_names))"
      ],
      "execution_count": null,
      "outputs": [
        {
          "output_type": "stream",
          "text": [
            "              precision    recall  f1-score   support\n",
            "\n",
            "     COVID19       0.04      0.18      0.07       116\n",
            "      NORMAL       0.65      0.47      0.55       317\n",
            "   PNEUMONIA       0.76      0.48      0.59       855\n",
            "\n",
            "    accuracy                           0.45      1288\n",
            "   macro avg       0.49      0.38      0.40      1288\n",
            "weighted avg       0.67      0.45      0.53      1288\n",
            "\n"
          ],
          "name": "stdout"
        }
      ]
    },
    {
      "cell_type": "code",
      "metadata": {
        "id": "1zwPKhuHrCHJ",
        "colab_type": "code",
        "colab": {
          "base_uri": "https://localhost:8080/",
          "height": 185
        },
        "outputId": "a9603336-7f54-42ca-ed50-25d801723b4a"
      },
      "source": [
        "train_data"
      ],
      "execution_count": 16,
      "outputs": [
        {
          "output_type": "execute_result",
          "data": {
            "text/plain": [
              "Dataset ImageFolder\n",
              "    Number of datapoints: 6824\n",
              "    Root location: ./gdrive/My Drive/DeepLearning/covid19/train\n",
              "    StandardTransform\n",
              "Transform: Compose(\n",
              "               Resize(size=256, interpolation=PIL.Image.BILINEAR)\n",
              "               CenterCrop(size=(224, 224))\n",
              "               ToTensor()\n",
              "               Normalize(mean=[0.485, 0.456, 0.406], std=[0.229, 0.224, 0.225])\n",
              "           )"
            ]
          },
          "metadata": {
            "tags": []
          },
          "execution_count": 16
        }
      ]
    },
    {
      "cell_type": "code",
      "metadata": {
        "id": "ZXmBFSKFrFQI",
        "colab_type": "code",
        "colab": {
          "base_uri": "https://localhost:8080/",
          "height": 185
        },
        "outputId": "aed64e66-285d-42a1-9c76-106be709c101"
      },
      "source": [
        "test_data"
      ],
      "execution_count": 17,
      "outputs": [
        {
          "output_type": "execute_result",
          "data": {
            "text/plain": [
              "Dataset ImageFolder\n",
              "    Number of datapoints: 1288\n",
              "    Root location: ./gdrive/My Drive/DeepLearning/covid19/test\n",
              "    StandardTransform\n",
              "Transform: Compose(\n",
              "               Resize(size=256, interpolation=PIL.Image.BILINEAR)\n",
              "               CenterCrop(size=(224, 224))\n",
              "               ToTensor()\n",
              "               Normalize(mean=[0.485, 0.456, 0.406], std=[0.229, 0.224, 0.225])\n",
              "           )"
            ]
          },
          "metadata": {
            "tags": []
          },
          "execution_count": 17
        }
      ]
    },
    {
      "cell_type": "code",
      "metadata": {
        "id": "yf_rACoTtc9F",
        "colab_type": "code",
        "colab": {
          "base_uri": "https://localhost:8080/",
          "height": 805,
          "referenced_widgets": [
            "ab3592879ef9474c9bc5b1ef1d6833cf",
            "3c88933880d24f92a823801cf2b65cd9",
            "e21ce3b6de4d44a18cd13a7b4b4791b9",
            "5fb58c4361bf452c8524cf5b394cd00e",
            "d5721f1d76da4ffbad86bd31be556af5",
            "8b2bc448d8344305a0eefee7b7d00e68",
            "4de0ad4b3dd04b62a8d357a4c006aafe",
            "146ac59dd80d43579ff53efb2e4eb41b"
          ]
        },
        "outputId": "babc3777-cfc9-48ad-f222-0c72be50bc90"
      },
      "source": [
        "vgg16_NL = models.vgg16(pretrained=True)\n",
        "for param in vgg16_NL.features.parameters():\n",
        "    param.require_grad = False\n",
        "\n",
        "num_features = vgg16_NL.classifier[0].in_features\n",
        "\n",
        "newClassifierLayers = [nn.Linear(num_features, 1024) , nn.ReLU(inplace=True) , nn.Dropout(p =0.5)  ]\n",
        "newClassifierLayers.extend([nn.Linear(1024, 128)])\n",
        "newClassifierLayers.extend([nn.Linear(128, len(class_names))])\n",
        "vgg16_NL.classifier = nn.Sequential(*newClassifierLayers)\n",
        "vgg16_NL"
      ],
      "execution_count": 16,
      "outputs": [
        {
          "output_type": "stream",
          "text": [
            "Downloading: \"https://download.pytorch.org/models/vgg16-397923af.pth\" to /root/.cache/torch/checkpoints/vgg16-397923af.pth\n"
          ],
          "name": "stderr"
        },
        {
          "output_type": "display_data",
          "data": {
            "application/vnd.jupyter.widget-view+json": {
              "model_id": "ab3592879ef9474c9bc5b1ef1d6833cf",
              "version_minor": 0,
              "version_major": 2
            },
            "text/plain": [
              "HBox(children=(FloatProgress(value=0.0, max=553433881.0), HTML(value='')))"
            ]
          },
          "metadata": {
            "tags": []
          }
        },
        {
          "output_type": "stream",
          "text": [
            "\n"
          ],
          "name": "stdout"
        },
        {
          "output_type": "execute_result",
          "data": {
            "text/plain": [
              "VGG(\n",
              "  (features): Sequential(\n",
              "    (0): Conv2d(3, 64, kernel_size=(3, 3), stride=(1, 1), padding=(1, 1))\n",
              "    (1): ReLU(inplace=True)\n",
              "    (2): Conv2d(64, 64, kernel_size=(3, 3), stride=(1, 1), padding=(1, 1))\n",
              "    (3): ReLU(inplace=True)\n",
              "    (4): MaxPool2d(kernel_size=2, stride=2, padding=0, dilation=1, ceil_mode=False)\n",
              "    (5): Conv2d(64, 128, kernel_size=(3, 3), stride=(1, 1), padding=(1, 1))\n",
              "    (6): ReLU(inplace=True)\n",
              "    (7): Conv2d(128, 128, kernel_size=(3, 3), stride=(1, 1), padding=(1, 1))\n",
              "    (8): ReLU(inplace=True)\n",
              "    (9): MaxPool2d(kernel_size=2, stride=2, padding=0, dilation=1, ceil_mode=False)\n",
              "    (10): Conv2d(128, 256, kernel_size=(3, 3), stride=(1, 1), padding=(1, 1))\n",
              "    (11): ReLU(inplace=True)\n",
              "    (12): Conv2d(256, 256, kernel_size=(3, 3), stride=(1, 1), padding=(1, 1))\n",
              "    (13): ReLU(inplace=True)\n",
              "    (14): Conv2d(256, 256, kernel_size=(3, 3), stride=(1, 1), padding=(1, 1))\n",
              "    (15): ReLU(inplace=True)\n",
              "    (16): MaxPool2d(kernel_size=2, stride=2, padding=0, dilation=1, ceil_mode=False)\n",
              "    (17): Conv2d(256, 512, kernel_size=(3, 3), stride=(1, 1), padding=(1, 1))\n",
              "    (18): ReLU(inplace=True)\n",
              "    (19): Conv2d(512, 512, kernel_size=(3, 3), stride=(1, 1), padding=(1, 1))\n",
              "    (20): ReLU(inplace=True)\n",
              "    (21): Conv2d(512, 512, kernel_size=(3, 3), stride=(1, 1), padding=(1, 1))\n",
              "    (22): ReLU(inplace=True)\n",
              "    (23): MaxPool2d(kernel_size=2, stride=2, padding=0, dilation=1, ceil_mode=False)\n",
              "    (24): Conv2d(512, 512, kernel_size=(3, 3), stride=(1, 1), padding=(1, 1))\n",
              "    (25): ReLU(inplace=True)\n",
              "    (26): Conv2d(512, 512, kernel_size=(3, 3), stride=(1, 1), padding=(1, 1))\n",
              "    (27): ReLU(inplace=True)\n",
              "    (28): Conv2d(512, 512, kernel_size=(3, 3), stride=(1, 1), padding=(1, 1))\n",
              "    (29): ReLU(inplace=True)\n",
              "    (30): MaxPool2d(kernel_size=2, stride=2, padding=0, dilation=1, ceil_mode=False)\n",
              "  )\n",
              "  (avgpool): AdaptiveAvgPool2d(output_size=(7, 7))\n",
              "  (classifier): Sequential(\n",
              "    (0): Linear(in_features=25088, out_features=1024, bias=True)\n",
              "    (1): ReLU(inplace=True)\n",
              "    (2): Dropout(p=0.5, inplace=False)\n",
              "    (3): Linear(in_features=1024, out_features=128, bias=True)\n",
              "    (4): Linear(in_features=128, out_features=3, bias=True)\n",
              "  )\n",
              ")"
            ]
          },
          "metadata": {
            "tags": []
          },
          "execution_count": 16
        }
      ]
    },
    {
      "cell_type": "code",
      "metadata": {
        "colab_type": "code",
        "id": "7AhER3dQzoNo",
        "colab": {
          "base_uri": "https://localhost:8080/",
          "height": 554
        },
        "outputId": "7335d5eb-3038-4e39-df27-0e4a2b069250"
      },
      "source": [
        "model = vgg16_NL\n",
        "critarion = floss()\n",
        "optimizer = optim.SGD(model.parameters(), lr=0.001, momentum=0.9)\n",
        "epochs = 10\n",
        "\n",
        "train_loss , train_accuracy = train(model, critarion, optimizer, trainloader, epochs)\n",
        "torch.save(model, './gdrive/My Drive/DeepLearning/vgg16_trained_1')\n",
        "test_loss, test_accuracy, test_predicted, test_true_labels = test(model, testloader, critarion)\n",
        "\n",
        "print(f'Test Loss: {test_loss}, Test Acc: {test_accuracy}')"
      ],
      "execution_count": 17,
      "outputs": [
        {
          "output_type": "stream",
          "text": [
            "Epoch:  0\n",
            "Train Loss: 0.005877202639877532, Train Acc: 85.84407971864009\n",
            "==========================================================================\n",
            "Epoch:  1\n",
            "Train Loss: 0.0027591668049167166, Train Acc: 90.25498241500586\n",
            "==========================================================================\n",
            "Epoch:  2\n",
            "Train Loss: 0.001928205573325888, Train Acc: 91.70574443141852\n",
            "==========================================================================\n",
            "Epoch:  3\n",
            "Train Loss: 0.0015331132778108362, Train Acc: 92.58499413833529\n",
            "==========================================================================\n",
            "Epoch:  4\n",
            "Train Loss: 0.0014027354916235468, Train Acc: 93.17116060961312\n",
            "==========================================================================\n",
            "Epoch:  5\n",
            "Train Loss: 0.0008059196992385967, Train Acc: 93.96248534583822\n",
            "==========================================================================\n",
            "Epoch:  6\n",
            "Train Loss: 0.0006102489339528118, Train Acc: 94.62192262602579\n",
            "==========================================================================\n",
            "Epoch:  7\n",
            "Train Loss: 0.000414121945183482, Train Acc: 95.04689331770223\n",
            "==========================================================================\n",
            "Epoch:  8\n",
            "Train Loss: 0.00023458271221259676, Train Acc: 95.98475967174677\n",
            "==========================================================================\n",
            "Epoch:  9\n",
            "Train Loss: 0.00016558133318882786, Train Acc: 96.20457209847596\n",
            "==========================================================================\n",
            "Running Time:  72.33303281068802 minutes\n",
            "Test Loss: 0.11869522808871655, Test Acc: 63.975155279503106\n"
          ],
          "name": "stdout"
        }
      ]
    },
    {
      "cell_type": "code",
      "metadata": {
        "id": "C_HfZsscxPum",
        "colab_type": "code",
        "colab": {
          "base_uri": "https://localhost:8080/",
          "height": 282
        },
        "outputId": "60eb50af-ac48-4990-bb5a-bd4d2501769d"
      },
      "source": [
        "\n",
        "plt.plot(range(len(train_loss)), train_loss)"
      ],
      "execution_count": 18,
      "outputs": [
        {
          "output_type": "execute_result",
          "data": {
            "text/plain": [
              "[<matplotlib.lines.Line2D at 0x7f5e80315f98>]"
            ]
          },
          "metadata": {
            "tags": []
          },
          "execution_count": 18
        },
        {
          "output_type": "display_data",
          "data": {
            "image/png": "[encoded data removed]",
            "text/plain": [
              "<Figure size 432x288 with 1 Axes>"
            ]
          },
          "metadata": {
            "tags": [],
            "needs_background": "light"
          }
        }
      ]
    },
    {
      "cell_type": "code",
      "metadata": {
        "id": "YrR3AFMuyoen",
        "colab_type": "code",
        "colab": {
          "base_uri": "https://localhost:8080/",
          "height": 282
        },
        "outputId": "4aa1dd77-d3d1-4d6d-fde4-a01a341a2ce7"
      },
      "source": [
        "plt.plot(range(len(train_accuracy)), train_accuracy)"
      ],
      "execution_count": 19,
      "outputs": [
        {
          "output_type": "execute_result",
          "data": {
            "text/plain": [
              "[<matplotlib.lines.Line2D at 0x7f5e802914e0>]"
            ]
          },
          "metadata": {
            "tags": []
          },
          "execution_count": 19
        },
        {
          "output_type": "display_data",
          "data": {
            "image/png": "[encoded data removed]",
            "text/plain": [
              "<Figure size 432x288 with 1 Axes>"
            ]
          },
          "metadata": {
            "tags": [],
            "needs_background": "light"
          }
        }
      ]
    },
    {
      "cell_type": "code",
      "metadata": {
        "id": "CrKZ2Rpmyyke",
        "colab_type": "code",
        "colab": {
          "base_uri": "https://localhost:8080/",
          "height": 851
        },
        "outputId": "9b1b7143-7ab6-4607-f107-24abd496285a"
      },
      "source": [
        "print_confusion_matrix(test_true_labels, test_predicted)"
      ],
      "execution_count": 20,
      "outputs": [
        {
          "output_type": "display_data",
          "data": {
            "image/png": "[encoded data removed]",
            "text/plain": [
              "<Figure size 432x288 with 2 Axes>"
            ]
          },
          "metadata": {
            "tags": [],
            "needs_background": "light"
          }
        },
        {
          "output_type": "display_data",
          "data": {
            "image/png": "[encoded data removed]",
            "text/plain": [
              "<Figure size 432x288 with 2 Axes>"
            ]
          },
          "metadata": {
            "tags": [],
            "needs_background": "light"
          }
        },
        {
          "output_type": "display_data",
          "data": {
            "image/png": "[encoded data removed]",
            "text/plain": [
              "<Figure size 432x288 with 2 Axes>"
            ]
          },
          "metadata": {
            "tags": [],
            "needs_background": "light"
          }
        }
      ]
    },
    {
      "cell_type": "code",
      "metadata": {
        "id": "NsrkeQkgzDbV",
        "colab_type": "code",
        "colab": {
          "base_uri": "https://localhost:8080/",
          "height": 185
        },
        "outputId": "95cc7192-43c8-4fd9-cd18-b9c398a1d107"
      },
      "source": [
        "print(classification_report(test_true_labels, test_predicted, target_names=class_names))"
      ],
      "execution_count": 21,
      "outputs": [
        {
          "output_type": "stream",
          "text": [
            "              precision    recall  f1-score   support\n",
            "\n",
            "     COVID19       0.05      0.11      0.07       116\n",
            "      NORMAL       0.80      0.23      0.36       317\n",
            "   PNEUMONIA       0.81      0.86      0.83       855\n",
            "\n",
            "    accuracy                           0.64      1288\n",
            "   macro avg       0.55      0.40      0.42      1288\n",
            "weighted avg       0.73      0.64      0.65      1288\n",
            "\n"
          ],
          "name": "stdout"
        }
      ]
    },
    {
      "cell_type": "code",
      "metadata": {
        "id": "0pzeNN3csUl2",
        "colab_type": "code",
        "colab": {}
      },
      "source": [
        ""
      ],
      "execution_count": null,
      "outputs": []
    }
  ]
}